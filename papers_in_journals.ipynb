{
  "nbformat": 4,
  "nbformat_minor": 0,
  "metadata": {
    "colab": {
      "provenance": [],
      "authorship_tag": "ABX9TyPTFyW4HFH5XPSZp+daXJI5",
      "include_colab_link": true
    },
    "kernelspec": {
      "name": "python3",
      "display_name": "Python 3"
    },
    "language_info": {
      "name": "python"
    }
  },
  "cells": [
    {
      "cell_type": "markdown",
      "metadata": {
        "id": "view-in-github",
        "colab_type": "text"
      },
      "source": [
        "<a href=\"https://colab.research.google.com/github/schnap3380/kewwords_for_journal_analysis/blob/main/papers_in_journals.ipynb\" target=\"_parent\"><img src=\"https://colab.research.google.com/assets/colab-badge.svg\" alt=\"Open In Colab\"/></a>"
      ]
    },
    {
      "cell_type": "code",
      "execution_count": null,
      "metadata": {
        "id": "R_9lqm5zd2in"
      },
      "outputs": [],
      "source": [
        "import numpy as np\n",
        "import pandas as pd\n",
        "import requests # for accessing API\n",
        "from datetime import datetime  # for dealing with dates\n",
        "from time import time"
      ]
    },
    {
      "cell_type": "code",
      "source": [
        "# Semantic Scholar API key (by request - mine allows for 100 requests / second)\n",
        "headers={'x-api-key':'FCndxzhW160dParwnevD46jKxnLLuBv7DE3UR1qa'}"
      ],
      "metadata": {
        "id": "7-kjcgg3d6ee"
      },
      "execution_count": 43,
      "outputs": []
    },
    {
      "cell_type": "code",
      "source": [
        "def get_articles_from_journal(journal_name, api_key):\n",
        "    # Endpoint for searching articles in Semantic Scholar\n",
        "    url = \"https://api.semanticscholar.org/graph/v1/paper/search/bulk\"\n",
        "\n",
        "    # Prepare the search parameters\n",
        "    params = {\n",
        "        \"query\": f'journal:\"{journal_name}\"',  # Searching by journal name\n",
        "        \"apiKey\": api_key\n",
        "    }\n",
        "\n",
        "    # Send request to Semantic Scholar API\n",
        "    response = requests.get(url, params=params)\n",
        "\n",
        "    # Check if the request was successful\n",
        "    if response.status_code != 200:\n",
        "        raise Exception(f\"Error fetching data from Semantic Scholar: {response.status_code}\")\n",
        "\n",
        "    if response.status_code == 429:\n",
        "        print(\"Waiting 1 second for access to the API...\")\n",
        "        time.sleep(1)\n",
        "        response = requests.get(url, params=params)\n",
        "\n",
        "\n",
        "    # Parse JSON response\n",
        "    data = response.json()\n",
        "\n",
        "    # Extract the relevant details for each paper\n",
        "    articles = []\n",
        "    for paper in data['data']:\n",
        "        title = paper.get('title', '')\n",
        "        abstract = paper.get('abstract', '')\n",
        "        year = paper.get('year', 'Unknown')\n",
        "\n",
        "        articles.append([title, abstract, year])\n",
        "\n",
        "    # Convert the data into a pandas DataFrame\n",
        "    df = pd.DataFrame(articles, columns=['Title', 'Abstract', 'Year'])\n",
        "\n",
        "    return df , data"
      ],
      "metadata": {
        "id": "ftVKSlX7yaA8"
      },
      "execution_count": 68,
      "outputs": []
    },
    {
      "cell_type": "code",
      "source": [
        "df , data= get_articles_from_journal(\"Nature\",headers)\n"
      ],
      "metadata": {
        "id": "FKY7UsGdwSfB"
      },
      "execution_count": 78,
      "outputs": []
    },
    {
      "cell_type": "code",
      "source": [
        "import requests\n",
        "import pandas as pd\n",
        "\n",
        "def fetch_articles_from_journal(api_key, journal_name):\n",
        "    url = \"https://api.semanticscholar.org/graph/v1/paper/search/bulk\"\n",
        "    params = {\n",
        "        \"query\": journal_name,\n",
        "        \"fields\": \"title,abstract,year\",\n",
        "        \"apiKey\": api_key\n",
        "    }\n",
        "\n",
        "    try:\n",
        "        response = requests.get(url, params=params)\n",
        "\n",
        "        if response.status_code != 200:\n",
        "          raise Exception(f\"Error fetching data from Semantic Scholar: {response.status_code}\")\n",
        "        if response.status_code == 429:\n",
        "          print(\"Waiting 1 second for access to the API...\")\n",
        "          time.sleep(1)\n",
        "          response = requests.get(url, params=params)\n",
        "\n",
        "        response.raise_for_status()  # Raises an HTTPError for bad responses\n",
        "        data = response.json()\n",
        "\n",
        "        if 'data' not in data:\n",
        "            return pd.DataFrame()  # Return an empty DataFrame if no data is found\n",
        "\n",
        "        articles = [{\n",
        "            'Title': article.get('title', ''),\n",
        "            'Abstract': article.get('abstract', ''),\n",
        "            'Year': article.get('year', '')\n",
        "        } for article in data.get('data', [])]\n",
        "\n",
        "        return pd.DataFrame(articles)\n",
        "\n",
        "    except requests.RequestException as e:\n",
        "        print(f\"Request failed: {e}\")\n",
        "        return pd.DataFrame()  # Return an empty DataFrame in case of an error\n",
        "\n",
        "# Example usage:\n",
        "api_key = 'FCndxzhW160dParwnevD46jKxnLLuBv7DE3UR1qa'\n",
        "journal_name = 'Nature'\n",
        "df = fetch_articles_from_journal(api_key, journal_name)\n",
        "print(df)\n"
      ],
      "metadata": {
        "colab": {
          "base_uri": "https://localhost:8080/"
        },
        "id": "iHe2qt1Vw3gM",
        "outputId": "304bc7d1-2b72-4a61-a439-0bbfd16ef6a8"
      },
      "execution_count": 75,
      "outputs": [
        {
          "output_type": "stream",
          "name": "stdout",
          "text": [
            "                                                 Title  \\\n",
            "0    De la nature de la «transition»: remarques épi...   \n",
            "1                           THE SUBJECT OF SOVEREIGNTY   \n",
            "2                Changes in Coping with Chronic Stress   \n",
            "3    Global Value Chains and Changing Trade Elastic...   \n",
            "4    Critical health legislation: a blueprint for a...   \n",
            "..                                                 ...   \n",
            "995  An Approach to Generate Music using Genetic Al...   \n",
            "996  Industrialisation, innovation et institutions ...   \n",
            "997  International Journal of Innovation in Teachin...   \n",
            "998                The Quest for Liberatory Psychology   \n",
            "999  The first‐night effect and the consistency of ...   \n",
            "\n",
            "                                              Abstract    Year  \n",
            "0    L'effondrement du communisme vaut, sinon accen...  1994.0  \n",
            "1    Seeking new forms of democracy, progressive po...  2023.0  \n",
            "2                                                 None  1997.0  \n",
            "3    The trade collapse of 2008-2009 and the anemic...  2018.0  \n",
            "4    W%\\ HAT is this thing called health? Simply a ...  1969.0  \n",
            "..                                                 ...     ...  \n",
            "995  Music is a very vast domain with various notes...  2022.0  \n",
            "996  Le savoir est aujourd'hui largement considere ...  2016.0  \n",
            "997  Depression known as mood disorder is a low moo...  2019.0  \n",
            "998  Despite scepticism about the viability, scope ...  1997.0  \n",
            "999  The nature and degree of objective sleep impai...  2023.0  \n",
            "\n",
            "[1000 rows x 3 columns]\n"
          ]
        }
      ]
    },
    {
      "cell_type": "code",
      "source": [
        "df.isna().sum()"
      ],
      "metadata": {
        "colab": {
          "base_uri": "https://localhost:8080/",
          "height": 178
        },
        "id": "JwwiVlm-46pJ",
        "outputId": "45364f43-2af7-41a0-ab4f-ad2297c836fd"
      },
      "execution_count": 77,
      "outputs": [
        {
          "output_type": "execute_result",
          "data": {
            "text/plain": [
              "Title         0\n",
              "Abstract    156\n",
              "Year          6\n",
              "dtype: int64"
            ],
            "text/html": [
              "<div>\n",
              "<style scoped>\n",
              "    .dataframe tbody tr th:only-of-type {\n",
              "        vertical-align: middle;\n",
              "    }\n",
              "\n",
              "    .dataframe tbody tr th {\n",
              "        vertical-align: top;\n",
              "    }\n",
              "\n",
              "    .dataframe thead th {\n",
              "        text-align: right;\n",
              "    }\n",
              "</style>\n",
              "<table border=\"1\" class=\"dataframe\">\n",
              "  <thead>\n",
              "    <tr style=\"text-align: right;\">\n",
              "      <th></th>\n",
              "      <th>0</th>\n",
              "    </tr>\n",
              "  </thead>\n",
              "  <tbody>\n",
              "    <tr>\n",
              "      <th>Title</th>\n",
              "      <td>0</td>\n",
              "    </tr>\n",
              "    <tr>\n",
              "      <th>Abstract</th>\n",
              "      <td>156</td>\n",
              "    </tr>\n",
              "    <tr>\n",
              "      <th>Year</th>\n",
              "      <td>6</td>\n",
              "    </tr>\n",
              "  </tbody>\n",
              "</table>\n",
              "</div><br><label><b>dtype:</b> int64</label>"
            ]
          },
          "metadata": {},
          "execution_count": 77
        }
      ]
    },
    {
      "cell_type": "code",
      "source": [],
      "metadata": {
        "id": "SGw1whOn44Nv"
      },
      "execution_count": null,
      "outputs": []
    }
  ]
}